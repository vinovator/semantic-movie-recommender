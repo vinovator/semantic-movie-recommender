{
 "cells": [
  {
   "cell_type": "code",
   "execution_count": 1,
   "id": "92ea163c-10c4-4f02-acb0-bfe0a49fa087",
   "metadata": {},
   "outputs": [
    {
     "name": "stderr",
     "output_type": "stream",
     "text": [
      "/Users/vinothhaldorai/opt/anaconda3/lib/python3.9/site-packages/sentence_transformers/cross_encoder/CrossEncoder.py:13: TqdmExperimentalWarning: Using `tqdm.autonotebook.tqdm` in notebook mode. Use `tqdm.tqdm` instead to force console mode (e.g. in jupyter console)\n",
      "  from tqdm.autonotebook import tqdm, trange\n"
     ]
    }
   ],
   "source": [
    "import pandas as pd\n",
    "from sentence_transformers import SentenceTransformer"
   ]
  },
  {
   "cell_type": "markdown",
   "id": "bd00d48f-767d-4327-b490-ea097795c511",
   "metadata": {},
   "source": [
    "## Load Data"
   ]
  },
  {
   "cell_type": "code",
   "execution_count": 2,
   "id": "cc8dd8c1-c464-4915-9176-9ebc0e4a206b",
   "metadata": {},
   "outputs": [
    {
     "data": {
      "text/html": [
       "<div>\n",
       "<style scoped>\n",
       "    .dataframe tbody tr th:only-of-type {\n",
       "        vertical-align: middle;\n",
       "    }\n",
       "\n",
       "    .dataframe tbody tr th {\n",
       "        vertical-align: top;\n",
       "    }\n",
       "\n",
       "    .dataframe thead th {\n",
       "        text-align: right;\n",
       "    }\n",
       "</style>\n",
       "<table border=\"1\" class=\"dataframe\">\n",
       "  <thead>\n",
       "    <tr style=\"text-align: right;\">\n",
       "      <th></th>\n",
       "      <th>tconst</th>\n",
       "      <th>primaryTitle</th>\n",
       "      <th>startYear</th>\n",
       "      <th>runtimeMinutes</th>\n",
       "      <th>genres</th>\n",
       "      <th>averageRating</th>\n",
       "      <th>numVotes</th>\n",
       "      <th>directors</th>\n",
       "      <th>actors</th>\n",
       "      <th>plot</th>\n",
       "    </tr>\n",
       "  </thead>\n",
       "  <tbody>\n",
       "    <tr>\n",
       "      <th>0</th>\n",
       "      <td>tt0002646</td>\n",
       "      <td>Atlantis</td>\n",
       "      <td>1913</td>\n",
       "      <td>121.0</td>\n",
       "      <td>Drama</td>\n",
       "      <td>6.5</td>\n",
       "      <td>516.0</td>\n",
       "      <td>August Blom</td>\n",
       "      <td>Olaf Fønss, Ida Orloff, Ebba Thomsen, Carl Lau...</td>\n",
       "      <td>Dr. Friedrich von Kammacher (Olaf Fønss), a su...</td>\n",
       "    </tr>\n",
       "    <tr>\n",
       "      <th>1</th>\n",
       "      <td>tt0003167</td>\n",
       "      <td>Home, Sweet Home</td>\n",
       "      <td>1914</td>\n",
       "      <td>55.0</td>\n",
       "      <td>Drama</td>\n",
       "      <td>5.7</td>\n",
       "      <td>308.0</td>\n",
       "      <td>D.W. Griffith</td>\n",
       "      <td>Henry B. Walthall, Josephine Crowell, Lillian ...</td>\n",
       "      <td>John Howard Payne leaves home and begins a car...</td>\n",
       "    </tr>\n",
       "    <tr>\n",
       "      <th>2</th>\n",
       "      <td>tt0003665</td>\n",
       "      <td>The Battle of the Sexes</td>\n",
       "      <td>1914</td>\n",
       "      <td>50.0</td>\n",
       "      <td>Drama</td>\n",
       "      <td>6.1</td>\n",
       "      <td>106.0</td>\n",
       "      <td>D.W. Griffith</td>\n",
       "      <td>Donald Crisp, Lillian Gish, Robert Harron, Mar...</td>\n",
       "      <td>Frank Andrews (Donald Crisp) is a well-to-do, ...</td>\n",
       "    </tr>\n",
       "    <tr>\n",
       "      <th>3</th>\n",
       "      <td>tt0003698</td>\n",
       "      <td>Brewster's Millions</td>\n",
       "      <td>1914</td>\n",
       "      <td>NaN</td>\n",
       "      <td>Comedy</td>\n",
       "      <td>6.3</td>\n",
       "      <td>60.0</td>\n",
       "      <td>Oscar Apfel, Cecil B. DeMille</td>\n",
       "      <td>Edward Abeles, Joseph Singleton, Sydney Deane,...</td>\n",
       "      <td>Wealthy Edwin Peter Brewster disowns his son R...</td>\n",
       "    </tr>\n",
       "    <tr>\n",
       "      <th>4</th>\n",
       "      <td>tt0003743</td>\n",
       "      <td>The Call of the North</td>\n",
       "      <td>1914</td>\n",
       "      <td>NaN</td>\n",
       "      <td>Adventure,Drama</td>\n",
       "      <td>5.0</td>\n",
       "      <td>52.0</td>\n",
       "      <td>Oscar Apfel, Cecil B. DeMille</td>\n",
       "      <td>Robert Edeson, Theodore Roberts, Winifred King...</td>\n",
       "      <td>Graehme, Ned Stewart's father was accused of a...</td>\n",
       "    </tr>\n",
       "  </tbody>\n",
       "</table>\n",
       "</div>"
      ],
      "text/plain": [
       "      tconst             primaryTitle  startYear  runtimeMinutes  \\\n",
       "0  tt0002646                 Atlantis       1913           121.0   \n",
       "1  tt0003167         Home, Sweet Home       1914            55.0   \n",
       "2  tt0003665  The Battle of the Sexes       1914            50.0   \n",
       "3  tt0003698      Brewster's Millions       1914             NaN   \n",
       "4  tt0003743    The Call of the North       1914             NaN   \n",
       "\n",
       "            genres  averageRating  numVotes                      directors  \\\n",
       "0            Drama            6.5     516.0                    August Blom   \n",
       "1            Drama            5.7     308.0                  D.W. Griffith   \n",
       "2            Drama            6.1     106.0                  D.W. Griffith   \n",
       "3           Comedy            6.3      60.0  Oscar Apfel, Cecil B. DeMille   \n",
       "4  Adventure,Drama            5.0      52.0  Oscar Apfel, Cecil B. DeMille   \n",
       "\n",
       "                                              actors  \\\n",
       "0  Olaf Fønss, Ida Orloff, Ebba Thomsen, Carl Lau...   \n",
       "1  Henry B. Walthall, Josephine Crowell, Lillian ...   \n",
       "2  Donald Crisp, Lillian Gish, Robert Harron, Mar...   \n",
       "3  Edward Abeles, Joseph Singleton, Sydney Deane,...   \n",
       "4  Robert Edeson, Theodore Roberts, Winifred King...   \n",
       "\n",
       "                                                plot  \n",
       "0  Dr. Friedrich von Kammacher (Olaf Fønss), a su...  \n",
       "1  John Howard Payne leaves home and begins a car...  \n",
       "2  Frank Andrews (Donald Crisp) is a well-to-do, ...  \n",
       "3  Wealthy Edwin Peter Brewster disowns his son R...  \n",
       "4  Graehme, Ned Stewart's father was accused of a...  "
      ]
     },
     "execution_count": 2,
     "metadata": {},
     "output_type": "execute_result"
    }
   ],
   "source": [
    "# Load the processed data\n",
    "df = pd.read_parquet(\"../data/processed/movies_master_with_plots.parquet\")\n",
    "df.head()"
   ]
  },
  {
   "cell_type": "code",
   "execution_count": 3,
   "id": "41f68ffd-f25a-4ac4-bcb9-bed3a8ac319b",
   "metadata": {},
   "outputs": [
    {
     "data": {
      "text/plain": [
       "(22094, 10)"
      ]
     },
     "execution_count": 3,
     "metadata": {},
     "output_type": "execute_result"
    }
   ],
   "source": [
    "df.shape"
   ]
  },
  {
   "cell_type": "code",
   "execution_count": 4,
   "id": "cf936f4a-2eee-4166-9e3f-74cf3f100970",
   "metadata": {},
   "outputs": [
    {
     "name": "stdout",
     "output_type": "stream",
     "text": [
      "<class 'pandas.core.frame.DataFrame'>\n",
      "RangeIndex: 22094 entries, 0 to 22093\n",
      "Data columns (total 10 columns):\n",
      " #   Column          Non-Null Count  Dtype  \n",
      "---  ------          --------------  -----  \n",
      " 0   tconst          22094 non-null  object \n",
      " 1   primaryTitle    22094 non-null  object \n",
      " 2   startYear       22094 non-null  int64  \n",
      " 3   runtimeMinutes  21875 non-null  float64\n",
      " 4   genres          22049 non-null  object \n",
      " 5   averageRating   21764 non-null  float64\n",
      " 6   numVotes        21764 non-null  float64\n",
      " 7   directors       22094 non-null  object \n",
      " 8   actors          22023 non-null  object \n",
      " 9   plot            22094 non-null  object \n",
      "dtypes: float64(3), int64(1), object(6)\n",
      "memory usage: 1.7+ MB\n"
     ]
    }
   ],
   "source": [
    "df.info()"
   ]
  },
  {
   "cell_type": "markdown",
   "id": "b251bc5a-cb77-4b1a-a2e6-b9a7b1fb3305",
   "metadata": {},
   "source": [
    "## Load Model"
   ]
  },
  {
   "cell_type": "code",
   "execution_count": 5,
   "id": "f68e1db1-b84d-4f74-bb21-b15a8fcbe09a",
   "metadata": {},
   "outputs": [],
   "source": [
    "# Load a pre-trained sentence-transformer model\n",
    "# all-MiniLM-L6-v2 is a great, lightweight model for semantic search\n",
    "model = SentenceTransformer('all-MiniLM-L6-v2')"
   ]
  },
  {
   "cell_type": "markdown",
   "id": "3fd54bcf-5a39-4968-b0aa-c72c6ba7fa0e",
   "metadata": {},
   "source": [
    "## Create Plot Segments (for \"Plot Twist\" feature)"
   ]
  },
  {
   "cell_type": "markdown",
   "id": "28bb90fa-b540-4dc8-9ec0-bc49648f4dfd",
   "metadata": {},
   "source": [
    "Create Plot Segments for \"Plot Twist\" feature. We will add the \"setup\" and \"payoff\" columns we planned for"
   ]
  },
  {
   "cell_type": "code",
   "execution_count": 6,
   "id": "a2325b65-133b-4cbf-9891-8ee452bffbcd",
   "metadata": {},
   "outputs": [],
   "source": [
    "def segment_plot(plot):\n",
    "    # A simple heuristic split of plot by sentences.\n",
    "    # The first 30% are the setup, and the rest is the payoff.\n",
    "\n",
    "    sentences = plot.split(\". \")\n",
    "    if len(sentences) < 3: # not enough sentences to segment\n",
    "        return plot, plot\n",
    "\n",
    "    setup_len = int(len(sentences) * 0.3)\n",
    "    setup = \". \".join(sentences[:setup_len]) + \".\"\n",
    "    payoff = \". \".join(sentences[setup_len:]) + \".\"\n",
    "    return setup, payoff"
   ]
  },
  {
   "cell_type": "code",
   "execution_count": 7,
   "id": "b31067ee-fe1a-484f-9074-3e8ba5fe1bf2",
   "metadata": {},
   "outputs": [
    {
     "name": "stdout",
     "output_type": "stream",
     "text": [
      "Plot segmentation complete\n"
     ]
    }
   ],
   "source": [
    "# Apply this function to create new columns\n",
    "df[[\"setup\", \"payoff\"]] = df[\"plot\"].apply(lambda x : pd.Series(segment_plot(x)))\n",
    "\n",
    "print(\"Plot segmentation complete\")"
   ]
  },
  {
   "cell_type": "code",
   "execution_count": 8,
   "id": "0cda9995-6a08-462a-9a40-a625cee040d2",
   "metadata": {},
   "outputs": [
    {
     "data": {
      "text/html": [
       "<div>\n",
       "<style scoped>\n",
       "    .dataframe tbody tr th:only-of-type {\n",
       "        vertical-align: middle;\n",
       "    }\n",
       "\n",
       "    .dataframe tbody tr th {\n",
       "        vertical-align: top;\n",
       "    }\n",
       "\n",
       "    .dataframe thead th {\n",
       "        text-align: right;\n",
       "    }\n",
       "</style>\n",
       "<table border=\"1\" class=\"dataframe\">\n",
       "  <thead>\n",
       "    <tr style=\"text-align: right;\">\n",
       "      <th></th>\n",
       "      <th>plot</th>\n",
       "      <th>setup</th>\n",
       "      <th>payoff</th>\n",
       "    </tr>\n",
       "  </thead>\n",
       "  <tbody>\n",
       "    <tr>\n",
       "      <th>0</th>\n",
       "      <td>Dr. Friedrich von Kammacher (Olaf Fønss), a su...</td>\n",
       "      <td>Dr. Friedrich von Kammacher (Olaf Fønss), a su...</td>\n",
       "      <td>Shortly after, he is called to treat a young R...</td>\n",
       "    </tr>\n",
       "    <tr>\n",
       "      <th>1</th>\n",
       "      <td>John Howard Payne leaves home and begins a car...</td>\n",
       "      <td>.</td>\n",
       "      <td>John Howard Payne leaves home and begins a car...</td>\n",
       "    </tr>\n",
       "    <tr>\n",
       "      <th>2</th>\n",
       "      <td>Frank Andrews (Donald Crisp) is a well-to-do, ...</td>\n",
       "      <td>Frank Andrews (Donald Crisp) is a well-to-do, ...</td>\n",
       "      <td>Cleo takes note of Andrews' interest in her an...</td>\n",
       "    </tr>\n",
       "    <tr>\n",
       "      <th>3</th>\n",
       "      <td>Wealthy Edwin Peter Brewster disowns his son R...</td>\n",
       "      <td>Wealthy Edwin Peter Brewster disowns his son R...</td>\n",
       "      <td>Shortly thereafter, Monty learns that he has i...</td>\n",
       "    </tr>\n",
       "    <tr>\n",
       "      <th>4</th>\n",
       "      <td>Graehme, Ned Stewart's father was accused of a...</td>\n",
       "      <td>.</td>\n",
       "      <td>Graehme, Ned Stewart's father was accused of a...</td>\n",
       "    </tr>\n",
       "    <tr>\n",
       "      <th>5</th>\n",
       "      <td>A melodrama about an American who becomes a re...</td>\n",
       "      <td>A melodrama about an American who becomes a re...</td>\n",
       "      <td>A melodrama about an American who becomes a re...</td>\n",
       "    </tr>\n",
       "    <tr>\n",
       "      <th>6</th>\n",
       "      <td>Cinderella is a kind young woman who lives wit...</td>\n",
       "      <td>Cinderella is a kind young woman who lives wit...</td>\n",
       "      <td>When they leave for the ball, Cinderella is le...</td>\n",
       "    </tr>\n",
       "    <tr>\n",
       "      <th>7</th>\n",
       "      <td>The film begins with a short prologue explaini...</td>\n",
       "      <td>The film begins with a short prologue explaini...</td>\n",
       "      <td>Joyce's son Larry (Harron) is by nature a sens...</td>\n",
       "    </tr>\n",
       "    <tr>\n",
       "      <th>8</th>\n",
       "      <td>In the film, Lillian Travers, a wealthy Northe...</td>\n",
       "      <td>In the film, Lillian Travers, a wealthy Northe...</td>\n",
       "      <td>Lillian's transformation into Lawrence Talbot ...</td>\n",
       "    </tr>\n",
       "    <tr>\n",
       "      <th>9</th>\n",
       "      <td>King Krewl (Raymond Russell) is a cruel dictat...</td>\n",
       "      <td>King Krewl (Raymond Russell) is a cruel dictat...</td>\n",
       "      <td>Mombi catches up with the travelers and remove...</td>\n",
       "    </tr>\n",
       "    <tr>\n",
       "      <th>10</th>\n",
       "      <td>Imar the Servitor rescues an American tourist ...</td>\n",
       "      <td>Imar the Servitor rescues an American tourist ...</td>\n",
       "      <td>When the tourist returns home, he discovers th...</td>\n",
       "    </tr>\n",
       "    <tr>\n",
       "      <th>11</th>\n",
       "      <td>The following plot synopsis was published in c...</td>\n",
       "      <td>The following plot synopsis was published in c...</td>\n",
       "      <td>The following plot synopsis was published in c...</td>\n",
       "    </tr>\n",
       "    <tr>\n",
       "      <th>12</th>\n",
       "      <td>The daughter of King Neptune takes on human fo...</td>\n",
       "      <td>The daughter of King Neptune takes on human fo...</td>\n",
       "      <td>The daughter of King Neptune takes on human fo...</td>\n",
       "    </tr>\n",
       "    <tr>\n",
       "      <th>13</th>\n",
       "      <td>The premise of the story was that Pauline's we...</td>\n",
       "      <td>The premise of the story was that Pauline's we...</td>\n",
       "      <td>Marvin, upon his death, has left her inheritan...</td>\n",
       "    </tr>\n",
       "    <tr>\n",
       "      <th>14</th>\n",
       "      <td>Esra Kincaid (La Reno) takes land by force and...</td>\n",
       "      <td>Esra Kincaid (La Reno) takes land by force and...</td>\n",
       "      <td>Esra Kincaid (La Reno) takes land by force and...</td>\n",
       "    </tr>\n",
       "    <tr>\n",
       "      <th>15</th>\n",
       "      <td>Rough-and-tumble Gold Rush-era California: a w...</td>\n",
       "      <td>Rough-and-tumble Gold Rush-era California: a w...</td>\n",
       "      <td>Rough-and-tumble Gold Rush-era California: a w...</td>\n",
       "    </tr>\n",
       "    <tr>\n",
       "      <th>16</th>\n",
       "      <td>Grace Roberts (played by Lea Leland), marries ...</td>\n",
       "      <td>Grace Roberts (played by Lea Leland), marries ...</td>\n",
       "      <td>Dr. Franklin (Leonid Samoloff) whisks Grace aw...</td>\n",
       "    </tr>\n",
       "    <tr>\n",
       "      <th>17</th>\n",
       "      <td>James Wynnegate (Dustin Farnum) and his cousin...</td>\n",
       "      <td>James Wynnegate (Dustin Farnum) and his cousin...</td>\n",
       "      <td>Cyr), daughter to the chief of the Utes tribe,...</td>\n",
       "    </tr>\n",
       "    <tr>\n",
       "      <th>18</th>\n",
       "      <td>Charles Chaplin portrays a womanizing city man...</td>\n",
       "      <td>Charles Chaplin portrays a womanizing city man...</td>\n",
       "      <td>They both feel guilty and leave the theater. W...</td>\n",
       "    </tr>\n",
       "    <tr>\n",
       "      <th>19</th>\n",
       "      <td>Baron Yamaki (Sessue Hayakawa) is a fisherman ...</td>\n",
       "      <td>Baron Yamaki (Sessue Hayakawa) is a fisherman ...</td>\n",
       "      <td>When Yamaki takes Toya-san to the Buddha shrin...</td>\n",
       "    </tr>\n",
       "  </tbody>\n",
       "</table>\n",
       "</div>"
      ],
      "text/plain": [
       "                                                 plot  \\\n",
       "0   Dr. Friedrich von Kammacher (Olaf Fønss), a su...   \n",
       "1   John Howard Payne leaves home and begins a car...   \n",
       "2   Frank Andrews (Donald Crisp) is a well-to-do, ...   \n",
       "3   Wealthy Edwin Peter Brewster disowns his son R...   \n",
       "4   Graehme, Ned Stewart's father was accused of a...   \n",
       "5   A melodrama about an American who becomes a re...   \n",
       "6   Cinderella is a kind young woman who lives wit...   \n",
       "7   The film begins with a short prologue explaini...   \n",
       "8   In the film, Lillian Travers, a wealthy Northe...   \n",
       "9   King Krewl (Raymond Russell) is a cruel dictat...   \n",
       "10  Imar the Servitor rescues an American tourist ...   \n",
       "11  The following plot synopsis was published in c...   \n",
       "12  The daughter of King Neptune takes on human fo...   \n",
       "13  The premise of the story was that Pauline's we...   \n",
       "14  Esra Kincaid (La Reno) takes land by force and...   \n",
       "15  Rough-and-tumble Gold Rush-era California: a w...   \n",
       "16  Grace Roberts (played by Lea Leland), marries ...   \n",
       "17  James Wynnegate (Dustin Farnum) and his cousin...   \n",
       "18  Charles Chaplin portrays a womanizing city man...   \n",
       "19  Baron Yamaki (Sessue Hayakawa) is a fisherman ...   \n",
       "\n",
       "                                                setup  \\\n",
       "0   Dr. Friedrich von Kammacher (Olaf Fønss), a su...   \n",
       "1                                                   .   \n",
       "2   Frank Andrews (Donald Crisp) is a well-to-do, ...   \n",
       "3   Wealthy Edwin Peter Brewster disowns his son R...   \n",
       "4                                                   .   \n",
       "5   A melodrama about an American who becomes a re...   \n",
       "6   Cinderella is a kind young woman who lives wit...   \n",
       "7   The film begins with a short prologue explaini...   \n",
       "8   In the film, Lillian Travers, a wealthy Northe...   \n",
       "9   King Krewl (Raymond Russell) is a cruel dictat...   \n",
       "10  Imar the Servitor rescues an American tourist ...   \n",
       "11  The following plot synopsis was published in c...   \n",
       "12  The daughter of King Neptune takes on human fo...   \n",
       "13  The premise of the story was that Pauline's we...   \n",
       "14  Esra Kincaid (La Reno) takes land by force and...   \n",
       "15  Rough-and-tumble Gold Rush-era California: a w...   \n",
       "16  Grace Roberts (played by Lea Leland), marries ...   \n",
       "17  James Wynnegate (Dustin Farnum) and his cousin...   \n",
       "18  Charles Chaplin portrays a womanizing city man...   \n",
       "19  Baron Yamaki (Sessue Hayakawa) is a fisherman ...   \n",
       "\n",
       "                                               payoff  \n",
       "0   Shortly after, he is called to treat a young R...  \n",
       "1   John Howard Payne leaves home and begins a car...  \n",
       "2   Cleo takes note of Andrews' interest in her an...  \n",
       "3   Shortly thereafter, Monty learns that he has i...  \n",
       "4   Graehme, Ned Stewart's father was accused of a...  \n",
       "5   A melodrama about an American who becomes a re...  \n",
       "6   When they leave for the ball, Cinderella is le...  \n",
       "7   Joyce's son Larry (Harron) is by nature a sens...  \n",
       "8   Lillian's transformation into Lawrence Talbot ...  \n",
       "9   Mombi catches up with the travelers and remove...  \n",
       "10  When the tourist returns home, he discovers th...  \n",
       "11  The following plot synopsis was published in c...  \n",
       "12  The daughter of King Neptune takes on human fo...  \n",
       "13  Marvin, upon his death, has left her inheritan...  \n",
       "14  Esra Kincaid (La Reno) takes land by force and...  \n",
       "15  Rough-and-tumble Gold Rush-era California: a w...  \n",
       "16  Dr. Franklin (Leonid Samoloff) whisks Grace aw...  \n",
       "17  Cyr), daughter to the chief of the Utes tribe,...  \n",
       "18  They both feel guilty and leave the theater. W...  \n",
       "19  When Yamaki takes Toya-san to the Buddha shrin...  "
      ]
     },
     "execution_count": 8,
     "metadata": {},
     "output_type": "execute_result"
    }
   ],
   "source": [
    "df[[\"plot\", \"setup\", \"payoff\"]].head(20)"
   ]
  },
  {
   "cell_type": "markdown",
   "id": "621d9a40-dab1-4ddb-912a-ed50f13093d8",
   "metadata": {},
   "source": [
    "## Generate Embeddings"
   ]
  },
  {
   "cell_type": "markdown",
   "id": "4d641a71-8907-4c10-9d09-0413ee321ace",
   "metadata": {},
   "source": [
    "Now we wil create the vectors. This step can take a few minutes"
   ]
  },
  {
   "cell_type": "code",
   "execution_count": 9,
   "id": "6c0a485d-e6a1-4060-a6c5-cef862bcb953",
   "metadata": {},
   "outputs": [
    {
     "name": "stdout",
     "output_type": "stream",
     "text": [
      "Generating embeddings for full plots...\n"
     ]
    },
    {
     "data": {
      "application/vnd.jupyter.widget-view+json": {
       "model_id": "ec4c76059e7146f0b86a2bf11010ec9b",
       "version_major": 2,
       "version_minor": 0
      },
      "text/plain": [
       "Batches:   0%|          | 0/691 [00:00<?, ?it/s]"
      ]
     },
     "metadata": {},
     "output_type": "display_data"
    },
    {
     "name": "stdout",
     "output_type": "stream",
     "text": [
      "Generating embeddings for plot setups...\n"
     ]
    },
    {
     "data": {
      "application/vnd.jupyter.widget-view+json": {
       "model_id": "f8a187bdebc140b2a9bcab5ed5cad5fb",
       "version_major": 2,
       "version_minor": 0
      },
      "text/plain": [
       "Batches:   0%|          | 0/691 [00:00<?, ?it/s]"
      ]
     },
     "metadata": {},
     "output_type": "display_data"
    },
    {
     "name": "stdout",
     "output_type": "stream",
     "text": [
      "Generating embeddings for plot payoffs...\n"
     ]
    },
    {
     "data": {
      "application/vnd.jupyter.widget-view+json": {
       "model_id": "3fd9b6318c144c80b5207310bf11fb21",
       "version_major": 2,
       "version_minor": 0
      },
      "text/plain": [
       "Batches:   0%|          | 0/691 [00:00<?, ?it/s]"
      ]
     },
     "metadata": {},
     "output_type": "display_data"
    },
    {
     "name": "stdout",
     "output_type": "stream",
     "text": [
      "All embeddings generated successfully\n",
      "Shape of plot embeddings: (22094, 384)\n"
     ]
    }
   ],
   "source": [
    "# Get the lists of texts to be encoded\n",
    "\n",
    "plots_to_embed = df[\"plot\"].tolist()\n",
    "setups_to_embed = df[\"setup\"].tolist()\n",
    "payoffs_to_embed = df[\"payoff\"].tolist()\n",
    "\n",
    "print(\"Generating embeddings for full plots...\")\n",
    "plot_embeddings = model.encode(plots_to_embed, show_progress_bar=True)\n",
    "\n",
    "print(\"Generating embeddings for plot setups...\")\n",
    "setup_embeddings = model.encode(setups_to_embed, show_progress_bar=True)\n",
    "\n",
    "print(\"Generating embeddings for plot payoffs...\")\n",
    "payoff_embeddings = model.encode(payoffs_to_embed, show_progress_bar=True)\n",
    "\n",
    "print(\"All embeddings generated successfully\")\n",
    "print(f\"Shape of plot embeddings: {plot_embeddings.shape}\")"
   ]
  },
  {
   "cell_type": "markdown",
   "id": "a9744eff-80f5-436b-a2ce-fbbc3e2b84b5",
   "metadata": {},
   "source": [
    "# Step 2.2: Building the Vector Index with ChromaDB"
   ]
  },
  {
   "cell_type": "markdown",
   "id": "864464c4-bf1a-464e-bc15-33e7435e2500",
   "metadata": {},
   "source": [
    "Now that we have our vectors, we need to store them in. way that allows for efficient searching.\n",
    "So we use a specialized vector database."
   ]
  },
  {
   "cell_type": "markdown",
   "id": "1ca29aea-9517-482c-aefe-84ad103ce259",
   "metadata": {},
   "source": [
    "## Initialize the ChromaDB client"
   ]
  },
  {
   "cell_type": "markdown",
   "id": "a3eb5a82-dffd-4ce9-8bfa-430f58da0110",
   "metadata": {},
   "source": [
    "This is a persistent client that saves our index to disk in a new db directory. This means we only have to do this indexing process once"
   ]
  },
  {
   "cell_type": "code",
   "execution_count": 10,
   "id": "aa136896-132b-4123-b092-cb1d9fadea88",
   "metadata": {},
   "outputs": [],
   "source": [
    "import chromadb\n",
    "import numpy as np # to remove NaNs before uploading to vector database"
   ]
  },
  {
   "cell_type": "code",
   "execution_count": 11,
   "id": "62d4e9ad-b46d-407f-b6a7-48302b695456",
   "metadata": {},
   "outputs": [],
   "source": [
    "# Create a persistent client that saves to disk\n",
    "client = chromadb.PersistentClient(path = \"../db\")"
   ]
  },
  {
   "cell_type": "markdown",
   "id": "2b3a2869-eecb-4827-a5e9-f2176c704341",
   "metadata": {},
   "source": [
    "## Create Collections"
   ]
  },
  {
   "cell_type": "markdown",
   "id": "53e63e0d-8e87-487a-bcbe-0b7af6100a23",
   "metadata": {},
   "source": [
    "A collection is like a table in a regular database. We need one for each type of search we want to perform"
   ]
  },
  {
   "cell_type": "code",
   "execution_count": 12,
   "id": "08d3ca85-d08f-445e-8a96-ee0f6a432974",
   "metadata": {},
   "outputs": [],
   "source": [
    "# Create collections for each embedding type\n",
    "# get_or_create method is helpful to avoid errors on re-runs\n",
    "\n",
    "plot_collection = client.get_or_create_collection(name = \"movie_plots\")\n",
    "setup_collection = client.get_or_create_collection(name = \"plot_setups\")\n",
    "payoff_collection = client.get_or_create_collection(name = \"plot_payoffs\")"
   ]
  },
  {
   "cell_type": "markdown",
   "id": "440a0324-dfbe-4e94-b6a4-17eef0e1ea46",
   "metadata": {},
   "source": [
    "## Prepare data and add to collections"
   ]
  },
  {
   "cell_type": "markdown",
   "id": "ffdc8600-84c2-4882-8abd-bd6a029cb314",
   "metadata": {},
   "source": [
    "We need to add our embeddings along with thier associated metadata (e.g. title, year, etc.) and a unique ID for each entry (tconst)"
   ]
  },
  {
   "cell_type": "code",
   "execution_count": 13,
   "id": "fdd1c94f-b408-44ab-8a0c-17aa9e5075ef",
   "metadata": {},
   "outputs": [],
   "source": [
    "# ChromaDB metadata can't handle lists. Convert list columns to strings.\n",
    "# The lambda function safely handles NaNs by checking if the value is a list first.\n",
    "\n",
    "# ---- Deleting this as the columns are already converted to comma separated strings in data extraction stage\n",
    "\n",
    "# df['directors'] = df['directors'].apply(lambda d: ', '.join(d) if isinstance(d, list) else None)\n",
    "# df['actors'] = df['actors'].apply(lambda a: ', '.join(a) if isinstance(a, list) else None)"
   ]
  },
  {
   "cell_type": "code",
   "execution_count": 14,
   "id": "a5f04e22-b4a5-404b-a585-cae4e5aec55c",
   "metadata": {},
   "outputs": [],
   "source": [
    "# --- Replace all NaN/None values with valid defaults ---\n",
    "# Identify numeric and object columns to fill them appropriately\n",
    "\n",
    "numeric_cols = df.select_dtypes(include=np.number).columns\n",
    "object_cols = df.select_dtypes(include='object').columns\n",
    "\n",
    "# Fill NaNs with 0 for numbers and \"\" for strings/objects\n",
    "df[numeric_cols] = df[numeric_cols].fillna(0)\n",
    "df[object_cols] = df[object_cols].fillna(\"\")"
   ]
  },
  {
   "cell_type": "code",
   "execution_count": 15,
   "id": "caae1ac1-6f9a-4b9d-88fc-e654d625b1e9",
   "metadata": {},
   "outputs": [],
   "source": [
    "# Prepare the data for chromaDB\n",
    "ids = df[\"tconst\"].tolist()\n",
    "\n",
    "# Convert dataframe rows to a list of dictionaries for metadata\n",
    "metadata = df.drop(columns = [\"plot\", \"setup\", \"payoff\"]).to_dict(\"records\")"
   ]
  },
  {
   "cell_type": "code",
   "execution_count": 16,
   "id": "21e9ef37-c4ad-4935-a505-5805d17031ba",
   "metadata": {},
   "outputs": [
    {
     "name": "stdout",
     "output_type": "stream",
     "text": [
      "Adding batch 1 to plot_collection...\n",
      "Adding batch 1 to setup_collection...\n",
      "Adding batch 1 to payoff_collection...\n",
      "Adding batch 2 to plot_collection...\n",
      "Adding batch 2 to setup_collection...\n",
      "Adding batch 2 to payoff_collection...\n",
      "Adding batch 3 to plot_collection...\n",
      "Adding batch 3 to setup_collection...\n",
      "Adding batch 3 to payoff_collection...\n",
      "Adding batch 4 to plot_collection...\n",
      "Adding batch 4 to setup_collection...\n",
      "Adding batch 4 to payoff_collection...\n",
      "Adding batch 5 to plot_collection...\n",
      "Adding batch 5 to setup_collection...\n",
      "Adding batch 5 to payoff_collection...\n",
      "\n",
      "Data has been successfully added to all ChromaDB collections.\n",
      "Total items in plot_collection: 22094\n"
     ]
    }
   ],
   "source": [
    "# Add data to collections in batches to manage memory\n",
    "batch_size = 5000\n",
    "\n",
    "for i in range(0, len(ids), batch_size):\n",
    "    end_i = min(i+batch_size, len(ids))\n",
    "\n",
    "    print(f\"Adding batch {i//batch_size + 1} to plot_collection...\")\n",
    "    plot_collection.add(\n",
    "        ids=ids[i:end_i],\n",
    "        embeddings=plot_embeddings[i:end_i],\n",
    "        metadatas=metadata[i:end_i]\n",
    "    )\n",
    "\n",
    "    print(f\"Adding batch {i//batch_size + 1} to setup_collection...\")\n",
    "    setup_collection.add(\n",
    "        ids=ids[i:end_i],\n",
    "        embeddings=setup_embeddings[i:end_i],\n",
    "        metadatas=metadata[i:end_i]\n",
    "    )\n",
    "\n",
    "    print(f\"Adding batch {i//batch_size + 1} to payoff_collection...\")\n",
    "    payoff_collection.add(\n",
    "        ids=ids[i:end_i],\n",
    "        embeddings=payoff_embeddings[i:end_i],\n",
    "        metadatas=metadata[i:end_i]\n",
    "    )\n",
    "\n",
    "print(\"\\nData has been successfully added to all ChromaDB collections.\")\n",
    "print(f\"Total items in plot_collection: {plot_collection.count()}\")"
   ]
  },
  {
   "cell_type": "code",
   "execution_count": null,
   "id": "a9812512-0127-44d2-9202-843e0abf6a15",
   "metadata": {},
   "outputs": [],
   "source": []
  }
 ],
 "metadata": {
  "kernelspec": {
   "display_name": "Python [conda env:base] *",
   "language": "python",
   "name": "conda-base-py"
  },
  "language_info": {
   "codemirror_mode": {
    "name": "ipython",
    "version": 3
   },
   "file_extension": ".py",
   "mimetype": "text/x-python",
   "name": "python",
   "nbconvert_exporter": "python",
   "pygments_lexer": "ipython3",
   "version": "3.9.23"
  }
 },
 "nbformat": 4,
 "nbformat_minor": 5
}
